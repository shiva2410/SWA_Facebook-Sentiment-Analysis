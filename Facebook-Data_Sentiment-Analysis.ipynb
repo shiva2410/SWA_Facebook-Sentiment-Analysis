{
  "nbformat": 4,
  "nbformat_minor": 0,
  "metadata": {
    "colab": {
      "name": "SWA.ipynb",
      "provenance": []
    },
    "kernelspec": {
      "name": "python3",
      "display_name": "Python 3"
    },
    "language_info": {
      "name": "python"
    }
  },
  "cells": [
    {
      "cell_type": "code",
      "execution_count": null,
      "metadata": {
        "colab": {
          "base_uri": "https://localhost:8080/"
        },
        "id": "mDs5n3stGa8j",
        "outputId": "9b59a645-63d6-4541-dab6-120b1e492fe7"
      },
      "outputs": [
        {
          "output_type": "stream",
          "name": "stdout",
          "text": [
            "<class 'list'>\n",
            "<class 'dict'>\n",
            "346\n"
          ]
        }
      ],
      "source": [
        "import pandas as pd\n",
        "from nltk.sentiment.vader import SentimentIntensityAnalyzer\n",
        "from nltk.stem import LancasterStemmer, WordNetLemmatizer \n",
        "from nltk.corpus import stopwords\n",
        "from nltk.probability import FreqDist\n",
        "import re\n",
        "import unicodedata\n",
        "import nltk\n",
        "import json\n",
        "import inflect\n",
        "import matplotlib.pyplot as plt\n",
        "\n",
        "import json\n",
        "# load json into python, assign to 'data'\n",
        "with open('your_posts_1.json') as file:\n",
        "    data = json.load(file)\n",
        "print(type(data))     # a list\n",
        "print(type(data[0]))  # first object in the list: a dictionary\n",
        "print(len(data))"
      ]
    },
    {
      "cell_type": "code",
      "source": [
        "# create empty list\n",
        "empty_lst = []\n",
        "# multiple nested loops to store all post in empty list\n",
        "for dct in data:\n",
        "    for k, v in dct.items():\n",
        "        if k == 'data':\n",
        "            if len(v) > 0:\n",
        "                for k_i, v_i in v[0].items():  \n",
        "                    if k_i == 'post':\n",
        "                        empty_lst.append(v_i)\n",
        "print(\"This is the empty list: \", empty_lst)\n",
        "print(\"\\nLength of list: \", len(empty_lst))\n",
        "for i in empty_lst:\n",
        "  print(i)"
      ],
      "metadata": {
        "colab": {
          "base_uri": "https://localhost:8080/"
        },
        "id": "e3NKgXfeHIwO",
        "outputId": "5311b9e3-2186-4ce0-c973-b95309559ad2"
      },
      "execution_count": null,
      "outputs": [
        {
          "output_type": "stream",
          "name": "stdout",
          "text": [
            "This is the empty list:  ['Jaise hi main bhaag milkha bhaag dekhne gaya milkha bhaag gaya', 'Happy teej everyone', 'Lonely', 'Happy Raksha bandhan', 'Ravan made by rahul and his team', 'Merry christmas', 'Happy new year friends', 'Students Classification by Age\\nClassic examples for students of different age groups:\\n1st to 3rd class: Hey! I studied everything for exam.\\n4th to 6th class: Hey! That question was very hard so I leave only that question.\\n7th to 10th class: Hey! Read only important questions.\\n11th class: I think 4 chapters are enough to get pass.\\n12th class: Kal exam kaun sa hai yaar?\\nAnd in college: Abey kaminon, bata toh dete aaj exam hai, main toh pen bhi nahi laya.\\n\\nBe the 1st one to like this..', 'Happy Holi to all my friends', 'Not feeling gud kings punjab lost', \"Your talents don't have to be perfect to use them.\\nIf only the best bird sang, the forests would be silent . . . .\", 'Happy TEEJ to all my frendz!!!!!!', 'HAPPY INDEPENDENCE DAY', 'Hathi ghoda palki-|^^^|-\\n\\n      JAI  KANHAIYA LAL KI !!!\\n\\n Happy Janmastami In Advance\\n\\nYashomati Mom Se\\nTalking Nandlala,\\nRadha Q Fair,\\nI m Q Kala,\\nBoli Smiling Maiya:\\nListen mere lala,\\n....Wo City Ki item\\nTu Village Ka Gwala\\nThats why U Kala...\\nâ\\x9e°â\\x9e°â\\x9e°â\\x9e°â\\x9e°â\\x9e°â\\x9e°â\\x9e°\\n\\nHappy gokulashthami', 'Chintu failed in the final Law Exam & decided to make a deal with the Professor.\\n \\nChintu: Sir, Can I ask you one question?\\n\\nProfessor: Yes.\\n\\nChintu: If you can answer this question, I will accept my final marks, if you cant, you will have to give me an \"A\" grading.\\n \\nProfessor agreed.\\n .\\n .\\n .\\n\\nChintu asked: \"What is legal but not logical, logical but not legal & neither legal nor logical?\"\\n\\nProf thought about it for hrs & pondered but couldnt think of an  answer.\\n\\nHe had to finally give up as he really didnot know the answer.\\n\\nHe gave this boy an \"A\" grading as promised.\\n\\nThe following day, Professor asked same question to his students.\\n\\nHe was shocked when all of them raised their hands.\\n\\nHe asked one student.\\n\\nHe answered:\\n\\nSir, you are 65, married to a  28 yrs old woman, this is legal but not logical.\\n\\nYour wife, is having an affair with a 23 year old boy, this is logical but not legal.\\n\\nYour wife\\'s boyfriend has failed in his exam & yet you have given him an \"A\", this is neither logical nor legal. ð\\x9f\\x98\\x8e\\n \\n .\\n .\\n Professor behosh..... ð\\x9f\\x98\\x86ð\\x9f\\x98\\x86ð\\x9f\\x98\\x86\\n ð\\x9f\\x98\\x86ð\\x9f\\x98\\x86ð\\x9f\\x98\\x86ð\\x9f\\x98\\x86ð\\x9f\\x98\\x86ð\\x9f\\x98\\x86ð\\x9f\\x98\\x86', 'Check out!!!', 'Happy diwali to all my frndz nd relatives!!!!', 'Earthquake was really a scary one....', 'Seriously!!!', 'Very true...', 'Eagerly waiting for the India - Pakistan match...', 'Happy birthday di !!!', 'Haha...', 'Chak De India!!!', 'Hahahaha..........', 'Remember....', 'Hahahaha.....', 'Hahaha....', 'Do watch this...', 'RIP poor cat....', 'Omg this driver is really crazzzzzyyyyyyyy!!!!!!!!!!', 'Imagination on another level...', \"''SALUTE''!!!\", 'Hahahahaaaa.....', 'Wow.....', 'True', 'Just cute...', 'Really...', 'Wow...', 'Hmmmm....', \"That's how you should think....\", 'Really bad time for aussies...', 'Hahaha...', 'Wow...', 'Exactly!!!', 'Wow...', 'Work hard until you no longer have to introduce yourself!!!', 'Happy birthday bro!!!', 'Happy Birthday Mosi !!', 'Rahul Gandhi', 'Yeah!!!', 'TRUE!!!', 'Hahahaað\\x9f\\x98\\x82ð\\x9f\\x98\\x82', \"It's about a year now, college vibes!!\", 'ð\\x9f\\x98\\x82ð\\x9f\\x98\\x82', 'ð\\x9f\\x98®ð\\x9f\\x98®', 'Happy birthday Geetanjali!! Enjoy to d fullest..â\\x9c¨â\\x9c¨']\n",
            "\n",
            "Length of list:  57\n",
            "Jaise hi main bhaag milkha bhaag dekhne gaya milkha bhaag gaya\n",
            "Happy teej everyone\n",
            "Lonely\n",
            "Happy Raksha bandhan\n",
            "Ravan made by rahul and his team\n",
            "Merry christmas\n",
            "Happy new year friends\n",
            "Students Classification by Age\n",
            "Classic examples for students of different age groups:\n",
            "1st to 3rd class: Hey! I studied everything for exam.\n",
            "4th to 6th class: Hey! That question was very hard so I leave only that question.\n",
            "7th to 10th class: Hey! Read only important questions.\n",
            "11th class: I think 4 chapters are enough to get pass.\n",
            "12th class: Kal exam kaun sa hai yaar?\n",
            "And in college: Abey kaminon, bata toh dete aaj exam hai, main toh pen bhi nahi laya.\n",
            "\n",
            "Be the 1st one to like this..\n",
            "Happy Holi to all my friends\n",
            "Not feeling gud kings punjab lost\n",
            "Your talents don't have to be perfect to use them.\n",
            "If only the best bird sang, the forests would be silent . . . .\n",
            "Happy TEEJ to all my frendz!!!!!!\n",
            "HAPPY INDEPENDENCE DAY\n",
            "Hathi ghoda palki-|^^^|-\n",
            "\n",
            "      JAI  KANHAIYA LAL KI !!!\n",
            "\n",
            " Happy Janmastami In Advance\n",
            "\n",
            "Yashomati Mom Se\n",
            "Talking Nandlala,\n",
            "Radha Q Fair,\n",
            "I m Q Kala,\n",
            "Boli Smiling Maiya:\n",
            "Listen mere lala,\n",
            "....Wo City Ki item\n",
            "Tu Village Ka Gwala\n",
            "Thats why U Kala...\n",
            "â°â°â°â°â°â°â°â°\n",
            "\n",
            "Happy gokulashthami\n",
            "Chintu failed in the final Law Exam & decided to make a deal with the Professor.\n",
            " \n",
            "Chintu: Sir, Can I ask you one question?\n",
            "\n",
            "Professor: Yes.\n",
            "\n",
            "Chintu: If you can answer this question, I will accept my final marks, if you cant, you will have to give me an \"A\" grading.\n",
            " \n",
            "Professor agreed.\n",
            " .\n",
            " .\n",
            " .\n",
            "\n",
            "Chintu asked: \"What is legal but not logical, logical but not legal & neither legal nor logical?\"\n",
            "\n",
            "Prof thought about it for hrs & pondered but couldnt think of an  answer.\n",
            "\n",
            "He had to finally give up as he really didnot know the answer.\n",
            "\n",
            "He gave this boy an \"A\" grading as promised.\n",
            "\n",
            "The following day, Professor asked same question to his students.\n",
            "\n",
            "He was shocked when all of them raised their hands.\n",
            "\n",
            "He asked one student.\n",
            "\n",
            "He answered:\n",
            "\n",
            "Sir, you are 65, married to a  28 yrs old woman, this is legal but not logical.\n",
            "\n",
            "Your wife, is having an affair with a 23 year old boy, this is logical but not legal.\n",
            "\n",
            "Your wife's boyfriend has failed in his exam & yet you have given him an \"A\", this is neither logical nor legal. ð\n",
            " \n",
            " .\n",
            " .\n",
            " Professor behosh..... ððð\n",
            " ððððððð\n",
            "Check out!!!\n",
            "Happy diwali to all my frndz nd relatives!!!!\n",
            "Earthquake was really a scary one....\n",
            "Seriously!!!\n",
            "Very true...\n",
            "Eagerly waiting for the India - Pakistan match...\n",
            "Happy birthday di !!!\n",
            "Haha...\n",
            "Chak De India!!!\n",
            "Hahahaha..........\n",
            "Remember....\n",
            "Hahahaha.....\n",
            "Hahaha....\n",
            "Do watch this...\n",
            "RIP poor cat....\n",
            "Omg this driver is really crazzzzzyyyyyyyy!!!!!!!!!!\n",
            "Imagination on another level...\n",
            "''SALUTE''!!!\n",
            "Hahahahaaaa.....\n",
            "Wow.....\n",
            "True\n",
            "Just cute...\n",
            "Really...\n",
            "Wow...\n",
            "Hmmmm....\n",
            "That's how you should think....\n",
            "Really bad time for aussies...\n",
            "Hahaha...\n",
            "Wow...\n",
            "Exactly!!!\n",
            "Wow...\n",
            "Work hard until you no longer have to introduce yourself!!!\n",
            "Happy birthday bro!!!\n",
            "Happy Birthday Mosi !!\n",
            "Rahul Gandhi\n",
            "Yeah!!!\n",
            "TRUE!!!\n",
            "Hahahaaðð\n",
            "It's about a year now, college vibes!!\n",
            "ðð\n",
            "ð®ð®\n",
            "Happy birthday Geetanjali!! Enjoy to d fullest..â¨â¨\n"
          ]
        }
      ]
    },
    {
      "cell_type": "code",
      "source": [
        "nltk.download('punkt')\n",
        "nested_sent_token = [nltk.sent_tokenize(lst) for lst in empty_lst]\n",
        "# flatten list, len: 3241\n",
        "flat_sent_token = [item for sublist in nested_sent_token for item in sublist]\n",
        "print(\"Flatten sentence token: \", len(flat_sent_token))"
      ],
      "metadata": {
        "colab": {
          "base_uri": "https://localhost:8080/"
        },
        "id": "WrJFdKuZHLoN",
        "outputId": "85b44a7b-b4eb-4352-86d3-08b7557fd559"
      },
      "execution_count": null,
      "outputs": [
        {
          "output_type": "stream",
          "name": "stdout",
          "text": [
            "[nltk_data] Downloading package punkt to /root/nltk_data...\n",
            "[nltk_data]   Package punkt is already up-to-date!\n",
            "Flatten sentence token:  107\n"
          ]
        }
      ]
    },
    {
      "cell_type": "code",
      "source": [
        "def remove_non_ascii(words):\n",
        "    new_words = []\n",
        "    for word in words:\n",
        "        new_word = unicodedata.normalize('NFKD', word).encode(\n",
        "            'ascii', 'ignore').decode('utf-8', 'ignore')\n",
        "        new_words.append(new_word)\n",
        "    return new_words\n",
        "\n",
        "# To LowerCase\n",
        "def to_lowercase(words):\n",
        "    new_words = []\n",
        "    for word in words:\n",
        "        new_word = word.lower()\n",
        "        new_words.append(new_word)\n",
        "    return new_words\n",
        "\n",
        "# Remove Punctuation\n",
        "def remove_punctuation(words):\n",
        "    new_words = []\n",
        "    for word in words:\n",
        "        new_word = re.sub(r'[^\\w\\s]', '', word)\n",
        "        if new_word != '':\n",
        "            new_words.append(new_word)\n",
        "    return new_words\n",
        "\n",
        "# Replace Numbers with Textual Representations\n",
        "def replace_numbers(words):\n",
        "    p = inflect.engine()\n",
        "    new_words = []\n",
        "    for word in words:\n",
        "        if word.isdigit():\n",
        "            new_word = p.number_to_words(word)\n",
        "            new_words.append(new_word)\n",
        "        else:\n",
        "            new_words.append(word)\n",
        "    return new_words\n",
        "\n",
        "# Remove Stopwords\n",
        "def remove_stopwords(words):\n",
        "    new_words = []\n",
        "    for word in words:\n",
        "        if word not in stopwords.words('english'):\n",
        "            new_words.append(word)\n",
        "    return new_words\n",
        "\n",
        "# Combine all functions into Normalize() function\n",
        "def normalize(words):\n",
        "    words = remove_non_ascii(words)\n",
        "    words = to_lowercase(words)\n",
        "    words = remove_punctuation(words)\n",
        "    words = replace_numbers(words)\n",
        "    words = remove_stopwords(words)\n",
        "    return words\n",
        "    \n",
        "nltk.download('stopwords')\n",
        "sents = normalize(flat_sent_token)\n",
        "print(\"Length of sentences list: \", len(sents))"
      ],
      "metadata": {
        "colab": {
          "base_uri": "https://localhost:8080/"
        },
        "id": "gcCeqmTqHP5S",
        "outputId": "53eda8f9-72b8-4d6f-9be3-f681d85b3e9a"
      },
      "execution_count": null,
      "outputs": [
        {
          "output_type": "stream",
          "name": "stdout",
          "text": [
            "[nltk_data] Downloading package stopwords to /root/nltk_data...\n",
            "[nltk_data]   Package stopwords is already up-to-date!\n",
            "Length of sentences list:  83\n"
          ]
        }
      ]
    },
    {
      "cell_type": "code",
      "source": [
        "from nltk.probability import FreqDist\n",
        "# Find frequency of sentence\n",
        "fdist_sent = FreqDist(sents)\n",
        "fdist_sent.most_common(10)   \n",
        "# Plot\n",
        "fdist_sent.plot(10)"
      ],
      "metadata": {
        "colab": {
          "base_uri": "https://localhost:8080/",
          "height": 605
        },
        "id": "7Izpyjm2HSvn",
        "outputId": "8edf5b20-dfe4-4a89-9946-2e8ee694c16e"
      },
      "execution_count": null,
      "outputs": [
        {
          "output_type": "display_data",
          "data": {
            "image/png": "[encoded data removed]",
            "text/plain": [
              "<Figure size 432x288 with 1 Axes>"
            ]
          },
          "metadata": {
            "needs_background": "light"
          }
        }
      ]
    },
    {
      "cell_type": "code",
      "source": [
        "nltk.download('vader_lexicon')\n",
        "sid = SentimentIntensityAnalyzer()\n",
        "sentiment = []\n",
        "sentiment2 = []\n",
        "for sent in sents:\n",
        "    sent1 = sent\n",
        "    sent_scores = sid.polarity_scores(sent1)\n",
        "    for x, y in sent_scores.items():\n",
        "        sentiment2.append((x, y))\n",
        "    sentiment.append((sent1, sent_scores))\n",
        "    # print(sentiment)\n",
        "# sentiment\n",
        "cols = ['sentence', 'numbers']\n",
        "result = pd.DataFrame(sentiment, columns=cols)\n",
        "print(\"First five rows of results: \", result.head())\n",
        "# sentiment2\n",
        "cols2 = ['label', 'values']\n",
        "result2 = pd.DataFrame(sentiment2, columns=cols2)\n",
        "print(\"First five rows of results2: \", result2.head())"
      ],
      "metadata": {
        "colab": {
          "base_uri": "https://localhost:8080/"
        },
        "id": "gQLTXXDTHV61",
        "outputId": "8fb576a6-e699-490d-eae7-debe8ec03d04"
      },
      "execution_count": null,
      "outputs": [
        {
          "output_type": "stream",
          "name": "stdout",
          "text": [
            "[nltk_data] Downloading package vader_lexicon to /root/nltk_data...\n",
            "[nltk_data]   Package vader_lexicon is already up-to-date!\n",
            "First five rows of results:                                              sentence                                            numbers\n",
            "0  jaise hi main bhaag milkha bhaag dekhne gaya m...  {'neg': 0.0, 'neu': 1.0, 'pos': 0.0, 'compound...\n",
            "1                                happy teej everyone  {'neg': 0.0, 'neu': 0.351, 'pos': 0.649, 'comp...\n",
            "2                                             lonely  {'neg': 1.0, 'neu': 0.0, 'pos': 0.0, 'compound...\n",
            "3                               happy raksha bandhan  {'neg': 0.0, 'neu': 0.351, 'pos': 0.649, 'comp...\n",
            "4                   ravan made by rahul and his team  {'neg': 0.0, 'neu': 1.0, 'pos': 0.0, 'compound...\n",
            "First five rows of results2:        label  values\n",
            "0       neg     0.0\n",
            "1       neu     1.0\n",
            "2       pos     0.0\n",
            "3  compound     0.0\n",
            "4       neg     0.0\n"
          ]
        }
      ]
    }
  ]
}